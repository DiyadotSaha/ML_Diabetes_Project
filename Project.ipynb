{
 "cells": [
  {
   "cell_type": "code",
   "execution_count": 29,
   "id": "ee58e59a",
   "metadata": {},
   "outputs": [
    {
     "ename": "ModuleNotFoundError",
     "evalue": "No module named 'shap'",
     "output_type": "error",
     "traceback": [
      "\u001b[1;31m---------------------------------------------------------------------------\u001b[0m",
      "\u001b[1;31mModuleNotFoundError\u001b[0m                       Traceback (most recent call last)",
      "Cell \u001b[1;32mIn[29], line 2\u001b[0m\n\u001b[0;32m      1\u001b[0m \u001b[38;5;66;03m#importing packages\u001b[39;00m\n\u001b[1;32m----> 2\u001b[0m \u001b[38;5;28;01mimport\u001b[39;00m \u001b[38;5;21;01mshap\u001b[39;00m\n\u001b[0;32m      3\u001b[0m \u001b[38;5;28;01mimport\u001b[39;00m \u001b[38;5;21;01mpandas\u001b[39;00m \u001b[38;5;28;01mas\u001b[39;00m \u001b[38;5;21;01mpd\u001b[39;00m\n\u001b[0;32m      4\u001b[0m \u001b[38;5;28;01mimport\u001b[39;00m \u001b[38;5;21;01mnumpy\u001b[39;00m \u001b[38;5;28;01mas\u001b[39;00m \u001b[38;5;21;01mnp\u001b[39;00m\n",
      "\u001b[1;31mModuleNotFoundError\u001b[0m: No module named 'shap'"
     ]
    }
   ],
   "source": []
  },
  {
   "cell_type": "code",
   "execution_count": 30,
   "id": "9f6d36d9",
   "metadata": {},
   "outputs": [
    {
     "name": "stdout",
     "output_type": "stream",
     "text": [
      "Collecting shap\n",
      "  Obtaining dependency information for shap from https://files.pythonhosted.org/packages/f5/fc/e81722d6bec4fcba46e46ef895eddaeab0027ac71e78fc35ef351fac5fe4/shap-0.43.0-cp311-cp311-win_amd64.whl.metadata\n",
      "  Downloading shap-0.43.0-cp311-cp311-win_amd64.whl.metadata (24 kB)\n",
      "Requirement already satisfied: numpy in c:\\users\\diyac\\anaconda3\\lib\\site-packages (from shap) (1.24.3)\n",
      "Requirement already satisfied: scipy in c:\\users\\diyac\\anaconda3\\lib\\site-packages (from shap) (1.11.1)\n",
      "Requirement already satisfied: scikit-learn in c:\\users\\diyac\\anaconda3\\lib\\site-packages (from shap) (1.3.0)\n",
      "Requirement already satisfied: pandas in c:\\users\\diyac\\anaconda3\\lib\\site-packages (from shap) (2.0.3)\n",
      "Requirement already satisfied: tqdm>=4.27.0 in c:\\users\\diyac\\anaconda3\\lib\\site-packages (from shap) (4.65.0)\n",
      "Requirement already satisfied: packaging>20.9 in c:\\users\\diyac\\anaconda3\\lib\\site-packages (from shap) (23.1)\n",
      "Collecting slicer==0.0.7 (from shap)\n",
      "  Downloading slicer-0.0.7-py3-none-any.whl (14 kB)\n",
      "Requirement already satisfied: numba in c:\\users\\diyac\\anaconda3\\lib\\site-packages (from shap) (0.57.1)\n",
      "Requirement already satisfied: cloudpickle in c:\\users\\diyac\\anaconda3\\lib\\site-packages (from shap) (2.2.1)\n",
      "Requirement already satisfied: colorama in c:\\users\\diyac\\anaconda3\\lib\\site-packages (from tqdm>=4.27.0->shap) (0.4.6)\n",
      "Requirement already satisfied: llvmlite<0.41,>=0.40.0dev0 in c:\\users\\diyac\\anaconda3\\lib\\site-packages (from numba->shap) (0.40.0)\n",
      "Requirement already satisfied: python-dateutil>=2.8.2 in c:\\users\\diyac\\anaconda3\\lib\\site-packages (from pandas->shap) (2.8.2)\n",
      "Requirement already satisfied: pytz>=2020.1 in c:\\users\\diyac\\anaconda3\\lib\\site-packages (from pandas->shap) (2023.3.post1)\n",
      "Requirement already satisfied: tzdata>=2022.1 in c:\\users\\diyac\\anaconda3\\lib\\site-packages (from pandas->shap) (2023.3)\n",
      "Requirement already satisfied: joblib>=1.1.1 in c:\\users\\diyac\\anaconda3\\lib\\site-packages (from scikit-learn->shap) (1.2.0)\n",
      "Requirement already satisfied: threadpoolctl>=2.0.0 in c:\\users\\diyac\\anaconda3\\lib\\site-packages (from scikit-learn->shap) (2.2.0)\n",
      "Requirement already satisfied: six>=1.5 in c:\\users\\diyac\\anaconda3\\lib\\site-packages (from python-dateutil>=2.8.2->pandas->shap) (1.16.0)\n",
      "Downloading shap-0.43.0-cp311-cp311-win_amd64.whl (447 kB)\n",
      "   ---------------------------------------- 0.0/447.3 kB ? eta -:--:--\n",
      "   -- ------------------------------------- 30.7/447.3 kB 1.3 MB/s eta 0:00:01\n",
      "   ----- ---------------------------------- 61.4/447.3 kB 1.1 MB/s eta 0:00:01\n",
      "   -------------------- ------------------- 225.3/447.3 kB 2.3 MB/s eta 0:00:01\n",
      "   ---------------------------------- ----- 389.1/447.3 kB 3.0 MB/s eta 0:00:01\n",
      "   ---------------------------------------- 447.3/447.3 kB 3.1 MB/s eta 0:00:00\n",
      "Installing collected packages: slicer, shap\n",
      "Successfully installed shap-0.43.0 slicer-0.0.7\n",
      "Note: you may need to restart the kernel to use updated packages.\n"
     ]
    }
   ],
   "source": [
    "pip install shap"
   ]
  },
  {
   "cell_type": "code",
   "execution_count": null,
   "id": "bbd15ac5",
   "metadata": {},
   "outputs": [],
   "source": [
    "#importing packages\n",
    "import shap\n",
    "import pandas as pd\n",
    "import numpy as np\n",
    "import matplotlib.pyplot as plt\n",
    "\n",
    "import requests                                      # reading data\n",
    "from io import StringIO\n",
    "\n",
    "from sklearn.datasets import fetch_openml            # common data set access\n",
    "from sklearn.preprocessing import StandardScaler     # scaling transform\n",
    "from sklearn.model_selection import train_test_split # validation tools\n",
    "from sklearn.metrics import zero_one_loss as J01\n",
    "\n",
    "import sklearn.tree as tree\n",
    "\n",
    "# Fix the random seed for reproducibility\n",
    "# !! Important !! : do not change this\n",
    "seed = 1234\n",
    "np.random.seed(seed)  "
   ]
  },
  {
   "cell_type": "code",
   "execution_count": 23,
   "id": "30568a8c",
   "metadata": {},
   "outputs": [
    {
     "name": "stdout",
     "output_type": "stream",
     "text": [
      "NumFeatures: 50 \n",
      "Features: Index(['encounter_id', 'patient_nbr', 'race', 'gender', 'age', 'weight',\n",
      "       'admission_type_id', 'discharge_disposition_id', 'admission_source_id',\n",
      "       'time_in_hospital', 'payer_code', 'medical_specialty',\n",
      "       'num_lab_procedures', 'num_procedures', 'num_medications',\n",
      "       'number_outpatient', 'number_emergency', 'number_inpatient', 'diag_1',\n",
      "       'diag_2', 'diag_3', 'number_diagnoses', 'max_glu_serum', 'A1Cresult',\n",
      "       'metformin', 'repaglinide', 'nateglinide', 'chlorpropamide',\n",
      "       'glimepiride', 'acetohexamide', 'glipizide', 'glyburide', 'tolbutamide',\n",
      "       'pioglitazone', 'rosiglitazone', 'acarbose', 'miglitol', 'troglitazone',\n",
      "       'tolazamide', 'examide', 'citoglipton', 'insulin',\n",
      "       'glyburide-metformin', 'glipizide-metformin',\n",
      "       'glimepiride-pioglitazone', 'metformin-rosiglitazone',\n",
      "       'metformin-pioglitazone', 'change', 'diabetesMed', 'readmitted'],\n",
      "      dtype='object')\n",
      "Summary: <bound method DataFrame.info of         encounter_id  patient_nbr             race  gender      age weight  \\\n",
      "0            2278392      8222157        Caucasian  Female   [0-10)      ?   \n",
      "1             149190     55629189        Caucasian  Female  [10-20)      ?   \n",
      "2              64410     86047875  AfricanAmerican  Female  [20-30)      ?   \n",
      "3             500364     82442376        Caucasian    Male  [30-40)      ?   \n",
      "4              16680     42519267        Caucasian    Male  [40-50)      ?   \n",
      "...              ...          ...              ...     ...      ...    ...   \n",
      "101761     443847548    100162476  AfricanAmerican    Male  [70-80)      ?   \n",
      "101762     443847782     74694222  AfricanAmerican  Female  [80-90)      ?   \n",
      "101763     443854148     41088789        Caucasian    Male  [70-80)      ?   \n",
      "101764     443857166     31693671        Caucasian  Female  [80-90)      ?   \n",
      "101765     443867222    175429310        Caucasian    Male  [70-80)      ?   \n",
      "\n",
      "        admission_type_id  discharge_disposition_id  admission_source_id  \\\n",
      "0                       6                        25                    1   \n",
      "1                       1                         1                    7   \n",
      "2                       1                         1                    7   \n",
      "3                       1                         1                    7   \n",
      "4                       1                         1                    7   \n",
      "...                   ...                       ...                  ...   \n",
      "101761                  1                         3                    7   \n",
      "101762                  1                         4                    5   \n",
      "101763                  1                         1                    7   \n",
      "101764                  2                         3                    7   \n",
      "101765                  1                         1                    7   \n",
      "\n",
      "        time_in_hospital  ... citoglipton insulin  glyburide-metformin  \\\n",
      "0                      1  ...          No      No                   No   \n",
      "1                      3  ...          No      Up                   No   \n",
      "2                      2  ...          No      No                   No   \n",
      "3                      2  ...          No      Up                   No   \n",
      "4                      1  ...          No  Steady                   No   \n",
      "...                  ...  ...         ...     ...                  ...   \n",
      "101761                 3  ...          No    Down                   No   \n",
      "101762                 5  ...          No  Steady                   No   \n",
      "101763                 1  ...          No    Down                   No   \n",
      "101764                10  ...          No      Up                   No   \n",
      "101765                 6  ...          No      No                   No   \n",
      "\n",
      "        glipizide-metformin  glimepiride-pioglitazone  \\\n",
      "0                        No                        No   \n",
      "1                        No                        No   \n",
      "2                        No                        No   \n",
      "3                        No                        No   \n",
      "4                        No                        No   \n",
      "...                     ...                       ...   \n",
      "101761                   No                        No   \n",
      "101762                   No                        No   \n",
      "101763                   No                        No   \n",
      "101764                   No                        No   \n",
      "101765                   No                        No   \n",
      "\n",
      "        metformin-rosiglitazone  metformin-pioglitazone  change diabetesMed  \\\n",
      "0                            No                      No      No          No   \n",
      "1                            No                      No      Ch         Yes   \n",
      "2                            No                      No      No         Yes   \n",
      "3                            No                      No      Ch         Yes   \n",
      "4                            No                      No      Ch         Yes   \n",
      "...                         ...                     ...     ...         ...   \n",
      "101761                       No                      No      Ch         Yes   \n",
      "101762                       No                      No      No         Yes   \n",
      "101763                       No                      No      Ch         Yes   \n",
      "101764                       No                      No      Ch         Yes   \n",
      "101765                       No                      No      No          No   \n",
      "\n",
      "       readmitted  \n",
      "0              NO  \n",
      "1             >30  \n",
      "2              NO  \n",
      "3              NO  \n",
      "4              NO  \n",
      "...           ...  \n",
      "101761        >30  \n",
      "101762         NO  \n",
      "101763         NO  \n",
      "101764         NO  \n",
      "101765         NO  \n",
      "\n",
      "[101766 rows x 50 columns]>\n"
     ]
    }
   ],
   "source": [
    "# Reading in the CSV file\n",
    "dia_data = pd.read_csv(\"data/diabetic_data.csv\")\n",
    "data = dia_data.to_numpy()\n",
    "#print(dia_X.shape)\n",
    "# View the first 5 rows\n",
    "dia_data.head()\n",
    "print(f\"NumFeatures: {len(dia_data.columns)} \\nFeatures: {dia_data.columns}\")\n",
    "print(f\"Summary: {dia_data.info}\")"
   ]
  },
  {
   "cell_type": "code",
   "execution_count": 27,
   "id": "959a40c7",
   "metadata": {},
   "outputs": [
    {
     "name": "stdout",
     "output_type": "stream",
     "text": [
      "Data Statistics\n",
      "Feature 1 Statistics\n",
      "<class 'int'>\n",
      "Min: 12522.000\n",
      "Max: 443867222.000\n",
      "Mean: 165201645.623\n",
      "Variance: 10534926837468544.000\n",
      "--------------------------------------\n",
      "Feature 2 Statistics\n",
      "<class 'int'>\n",
      "Min: 135.000\n",
      "Max: 189502619.000\n",
      "Mean: 54330400.695\n",
      "Variance: 1497393512447133.500\n",
      "--------------------------------------\n",
      "Feature 3 Statistics\n",
      "<class 'str'>\n"
     ]
    },
    {
     "ename": "ValueError",
     "evalue": "Unknown format code 'f' for object of type 'str'",
     "output_type": "error",
     "traceback": [
      "\u001b[1;31m---------------------------------------------------------------------------\u001b[0m",
      "\u001b[1;31mValueError\u001b[0m                                Traceback (most recent call last)",
      "Cell \u001b[1;32mIn[27], line 8\u001b[0m\n\u001b[0;32m      5\u001b[0m feature \u001b[38;5;241m=\u001b[39m X[:, i]\n\u001b[0;32m      7\u001b[0m \u001b[38;5;28mprint\u001b[39m(\u001b[38;5;28mtype\u001b[39m(feature[\u001b[38;5;241m0\u001b[39m]))\n\u001b[1;32m----> 8\u001b[0m \u001b[38;5;28mprint\u001b[39m(\u001b[38;5;124mf\u001b[39m\u001b[38;5;124m\"\u001b[39m\u001b[38;5;124mMin: \u001b[39m\u001b[38;5;132;01m{\u001b[39;00mnp\u001b[38;5;241m.\u001b[39mmin(feature)\u001b[38;5;132;01m:\u001b[39;00m\u001b[38;5;124m.3f\u001b[39m\u001b[38;5;132;01m}\u001b[39;00m\u001b[38;5;124m\"\u001b[39m)\n\u001b[0;32m      9\u001b[0m \u001b[38;5;28mprint\u001b[39m(\u001b[38;5;124mf\u001b[39m\u001b[38;5;124m\"\u001b[39m\u001b[38;5;124mMax: \u001b[39m\u001b[38;5;132;01m{\u001b[39;00mnp\u001b[38;5;241m.\u001b[39mmax(feature)\u001b[38;5;132;01m:\u001b[39;00m\u001b[38;5;124m.3f\u001b[39m\u001b[38;5;132;01m}\u001b[39;00m\u001b[38;5;124m\"\u001b[39m)\n\u001b[0;32m     10\u001b[0m \u001b[38;5;28mprint\u001b[39m(\u001b[38;5;124mf\u001b[39m\u001b[38;5;124m\"\u001b[39m\u001b[38;5;124mMean: \u001b[39m\u001b[38;5;132;01m{\u001b[39;00mnp\u001b[38;5;241m.\u001b[39mnanmean(feature)\u001b[38;5;132;01m:\u001b[39;00m\u001b[38;5;124m.3f\u001b[39m\u001b[38;5;132;01m}\u001b[39;00m\u001b[38;5;124m\"\u001b[39m)\n",
      "\u001b[1;31mValueError\u001b[0m: Unknown format code 'f' for object of type 'str'"
     ]
    }
   ],
   "source": [
    "X, Y = data[:,:-1], data[:,-1]\n",
    "print(\"Data Statistics\")\n",
    "for i in range(0, X.shape[1]):\n",
    "    print(f\"Feature {i+1} Statistics\")\n",
    "    feature = X[:, i]\n",
    "    print(f\"Min: {np.min(feature):.3f}\")\n",
    "    print(f\"Max: {np.max(feature):.3f}\")\n",
    "    print(f\"Mean: {np.nanmean(feature):.3f}\")\n",
    "    print(f\"Variance: {np.nanvar(feature):.3f}\")\n",
    "    print(\"--------------------------------------\")"
   ]
  },
  {
   "cell_type": "code",
   "execution_count": null,
   "id": "2cfb645a",
   "metadata": {},
   "outputs": [],
   "source": []
  }
 ],
 "metadata": {
  "kernelspec": {
   "display_name": "Python 3 (ipykernel)",
   "language": "python",
   "name": "python3"
  },
  "language_info": {
   "codemirror_mode": {
    "name": "ipython",
    "version": 3
   },
   "file_extension": ".py",
   "mimetype": "text/x-python",
   "name": "python",
   "nbconvert_exporter": "python",
   "pygments_lexer": "ipython3",
   "version": "3.11.5"
  }
 },
 "nbformat": 4,
 "nbformat_minor": 5
}
