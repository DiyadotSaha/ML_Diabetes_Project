{
 "cells": [
  {
   "cell_type": "code",
   "execution_count": 9,
   "metadata": {},
   "outputs": [],
   "source": [
    "#!pip install xgboost"
   ]
  },
  {
   "cell_type": "code",
   "execution_count": 10,
   "metadata": {},
   "outputs": [],
   "source": [
    "#!pip uninstall scikit-learn\n",
    "#!pip install scikit-learn==1.2.2"
   ]
  },
  {
   "cell_type": "code",
   "execution_count": 12,
   "metadata": {},
   "outputs": [],
   "source": [
    "import numpy as np\n",
    "import pandas as pd\n",
    "import datetime\n",
    "import time\n",
    "from sklearn.model_selection import train_test_split\n",
    "\n",
    "\n",
    "from sklearn.discriminant_analysis import LinearDiscriminantAnalysis\n",
    "from sklearn import tree\n",
    "from sklearn.neighbors import KNeighborsClassifier\n",
    "from sklearn.ensemble import RandomForestClassifier\n",
    "from sklearn.ensemble import ExtraTreesClassifier\n",
    "from sklearn.ensemble import AdaBoostClassifier\n",
    "from sklearn.ensemble import VotingClassifier\n",
    "from xgboost import XGBClassifier\n",
    "from sklearn.naive_bayes import GaussianNB\n",
    "from sklearn.svm import SVC\n",
    "from sklearn.linear_model import LogisticRegression\n",
    "\n",
    "\n",
    "# Metrics to use other than the accuracy (Success rate)\n",
    "# https://scikit-learn.org/stable/modules/classes.html?highlight=metric#module-sklearn.metrics\n",
    "\n",
    "from sklearn.metrics import f1_score\n",
    "from sklearn.metrics import confusion_matrix\n",
    "from sklearn.metrics import recall_score\n",
    "from sklearn.metrics import precision_score\n",
    "from sklearn.metrics import accuracy_score\n"
   ]
  },
  {
   "cell_type": "code",
   "execution_count": 2,
   "metadata": {},
   "outputs": [],
   "source": [
    "def specificity(ytest,ypred):\n",
    "    tn, fp, fn, tp = confusion_matrix(ytest,ypred).ravel()\n",
    "    spec = tn/(tn+fp)\n",
    "    return spec"
   ]
  },
  {
   "cell_type": "code",
   "execution_count": 14,
   "metadata": {},
   "outputs": [],
   "source": [
    "def results(model,X_train,y_train,X_test,y_test):\n",
    "    ##DIYA: PRINT ROC CURVE FOR EACH CLASSIFIER\n",
    "    model.fit(X_train,y_train)\n",
    "\n",
    "    print(type(model).__name__)\n",
    "    y_pred = model.predict(X_test)\n",
    "\n",
    "    acc = accuracy_score(y_pred= y_pred, y_true= y_test)\n",
    "    print(\"Acc:  \", acc)\n",
    "    prec = precision_score(y_test,y_pred, average='weighted')\n",
    "    print(\"Prec: \",prec)\n",
    "    #spec = specificity(y_test,y_pred)\n",
    "    #print(\"Spec: \", spec)\n",
    "    sens = recall_score(y_test,y_pred,average='weighted')\n",
    "    print(\"Sens: \", sens)\n",
    "    f1 = f1_score(y_test,y_pred, average='weighted')\n",
    "    print(\"F1: \",f1)\n",
    "    res = {\"Model_Name\":[type(model).__name__], \"Accuracy\": [acc],\n",
    "    \"Precision\":[prec], #\"Specificity\":spec, \n",
    "    \"Sensitivity\": [sens], \"F1\":[f1 ]}\n",
    "    \n",
    "    return res"
   ]
  },
  {
   "cell_type": "code",
   "execution_count": 4,
   "metadata": {},
   "outputs": [],
   "source": [
    "X_train = pd.read_csv('data/X_TRAINING_SET_Diabetes_ENCODED.csv')\n",
    "X_test = pd.read_csv('data/X_VALIDATION_SET_ENCODED.csv')\n",
    "y_train = pd.read_csv('data/Y_TRAINING_SET_EDIT.csv')\n",
    "y_test = pd.read_csv('data/Y_VALIDATION_SET_EDIT.csv')"
   ]
  },
  {
   "cell_type": "code",
   "execution_count": 5,
   "metadata": {},
   "outputs": [],
   "source": [
    "y_train = y_train.drop(columns=['Unnamed: 0'])\n",
    "y_test = y_test.drop(columns=['Unnamed: 0'])\n",
    "X_train = X_train.drop(columns=['Unnamed: 0'])\n",
    "X_test = X_test.drop(columns=['Unnamed: 0'])"
   ]
  },
  {
   "cell_type": "code",
   "execution_count": 6,
   "metadata": {},
   "outputs": [],
   "source": [
    "new_column_names = [col.replace('[', '_').replace(']', '_').replace('<', 'less_than') for col in X_train.columns]\n",
    "# Create a dictionary to map old names to new names\n",
    "column_mapping = dict(zip(X_train.columns, new_column_names))\n",
    "X_train = X_train.rename(columns=column_mapping)\n",
    "#--------\n",
    "new_column_names = [col.replace('[', '_').replace(']', '_').replace('<', 'less_than') for col in X_test.columns]\n",
    "# Create a dictionary to map old names to new names\n",
    "column_mapping = dict(zip(X_test.columns, new_column_names))\n",
    "X_test = X_test.rename(columns=column_mapping)\n"
   ]
  },
  {
   "cell_type": "code",
   "execution_count": 7,
   "metadata": {},
   "outputs": [
    {
     "name": "stdout",
     "output_type": "stream",
     "text": [
      "Index(['number_outpatient', 'number_emergency', 'number_inpatient',\n",
      "       'number_diagnoses', 'race_AfricanAmerican', 'race_Asian',\n",
      "       'race_Caucasian', 'race_Hispanic', 'race_Other', 'gender_Female',\n",
      "       'gender_Male', 'gender_Unknown/Invalid', 'age__0-10)', 'age__10-20)',\n",
      "       'age__20-30)', 'age__30-40)', 'age__40-50)', 'age__50-60)',\n",
      "       'age__60-70)', 'age__70-80)', 'age__80-90)', 'age__90-100)',\n",
      "       'weight_>200', 'weight__0-25)', 'weight__100-125)', 'weight__125-150)',\n",
      "       'weight__150-175)', 'weight__175-200)', 'weight__25-50)',\n",
      "       'weight__50-75)', 'weight__75-100)', 'payer_code_BC', 'payer_code_CH',\n",
      "       'payer_code_CM', 'payer_code_CP', 'payer_code_DM', 'payer_code_FR',\n",
      "       'payer_code_HM', 'payer_code_MC', 'payer_code_MD'],\n",
      "      dtype='object')\n"
     ]
    }
   ],
   "source": [
    "print(X_test.columns[10:50])"
   ]
  },
  {
   "cell_type": "code",
   "execution_count": 8,
   "metadata": {},
   "outputs": [],
   "source": [
    "#models\n",
    "model1 = XGBClassifier()\n",
    "model2 = RandomForestClassifier()\n",
    "model3 = AdaBoostClassifier()\n",
    "model4 = LogisticRegression()\n",
    "model5 = KNeighborsClassifier()\n",
    "model6 = LinearDiscriminantAnalysis()\n",
    "model7 = SVC()"
   ]
  },
  {
   "cell_type": "code",
   "execution_count": 35,
   "metadata": {},
   "outputs": [
    {
     "name": "stdout",
     "output_type": "stream",
     "text": [
      "Empty DataFrame\n",
      "Columns: [Model_Name, Accuracy, Precision, Sensitivity, F1]\n",
      "Index: []\n",
      "XGBClassifier\n",
      "Acc:   0.6030375223347231\n",
      "Prec:  0.5813203464721086\n",
      "Sens:  0.6030375223347231\n",
      "F1:  0.5672283434026574\n"
     ]
    },
    {
     "name": "stderr",
     "output_type": "stream",
     "text": [
      "C:\\Users\\Priya Velu\\AppData\\Local\\Temp\\ipykernel_11952\\1546172770.py:4: FutureWarning: The behavior of DataFrame concatenation with empty or all-NA entries is deprecated. In a future version, this will no longer exclude empty or all-NA columns when determining the result dtypes. To retain the old behavior, exclude the relevant entries before the concat operation.\n",
      "  resDF = pd.concat([resDF, pd.DataFrame(results(model1,X_train,y_train,X_test,y_test))],ignore_index=True)\n",
      "c:\\miniconda\\Lib\\site-packages\\sklearn\\base.py:1152: DataConversionWarning: A column-vector y was passed when a 1d array was expected. Please change the shape of y to (n_samples,), for example using ravel().\n",
      "  return fit_method(estimator, *args, **kwargs)\n"
     ]
    },
    {
     "name": "stdout",
     "output_type": "stream",
     "text": [
      "RandomForestClassifier\n",
      "Acc:   0.5944014294222751\n",
      "Prec:  0.5668673610750296\n",
      "Sens:  0.5944014294222751\n",
      "F1:  0.54773887627201\n"
     ]
    },
    {
     "name": "stderr",
     "output_type": "stream",
     "text": [
      "c:\\miniconda\\Lib\\site-packages\\sklearn\\utils\\validation.py:1183: DataConversionWarning: A column-vector y was passed when a 1d array was expected. Please change the shape of y to (n_samples, ), for example using ravel().\n",
      "  y = column_or_1d(y, warn=True)\n"
     ]
    },
    {
     "name": "stdout",
     "output_type": "stream",
     "text": [
      "AdaBoostClassifier\n",
      "Acc:   0.593607305936073\n",
      "Prec:  0.570311417698671\n",
      "Sens:  0.593607305936073\n",
      "F1:  0.5448263592865017\n"
     ]
    },
    {
     "name": "stderr",
     "output_type": "stream",
     "text": [
      "c:\\miniconda\\Lib\\site-packages\\sklearn\\utils\\validation.py:1183: DataConversionWarning: A column-vector y was passed when a 1d array was expected. Please change the shape of y to (n_samples, ), for example using ravel().\n",
      "  y = column_or_1d(y, warn=True)\n"
     ]
    },
    {
     "name": "stdout",
     "output_type": "stream",
     "text": [
      "LogisticRegression\n",
      "Acc:   0.5414929521540599\n",
      "Prec:  0.4559596311214715\n",
      "Sens:  0.5414929521540599\n",
      "F1:  0.44783489440171437\n"
     ]
    },
    {
     "name": "stderr",
     "output_type": "stream",
     "text": [
      "c:\\miniconda\\Lib\\site-packages\\sklearn\\metrics\\_classification.py:1469: UndefinedMetricWarning: Precision is ill-defined and being set to 0.0 in labels with no predicted samples. Use `zero_division` parameter to control this behavior.\n",
      "  _warn_prf(average, modifier, msg_start, len(result))\n",
      "c:\\miniconda\\Lib\\site-packages\\sklearn\\neighbors\\_classification.py:233: DataConversionWarning: A column-vector y was passed when a 1d array was expected. Please change the shape of y to (n_samples,), for example using ravel().\n",
      "  return self._fit(X, y)\n"
     ]
    },
    {
     "name": "stdout",
     "output_type": "stream",
     "text": [
      "KNeighborsClassifier\n",
      "Acc:   0.5162795314671431\n",
      "Prec:  0.4702706105379989\n",
      "Sens:  0.5162795314671431\n",
      "F1:  0.48200534943034595\n"
     ]
    },
    {
     "name": "stderr",
     "output_type": "stream",
     "text": [
      "c:\\miniconda\\Lib\\site-packages\\sklearn\\utils\\validation.py:1183: DataConversionWarning: A column-vector y was passed when a 1d array was expected. Please change the shape of y to (n_samples, ), for example using ravel().\n",
      "  y = column_or_1d(y, warn=True)\n"
     ]
    },
    {
     "name": "stdout",
     "output_type": "stream",
     "text": [
      "LinearDiscriminantAnalysis\n",
      "Acc:   0.5742505459598968\n",
      "Prec:  0.5399091918696047\n",
      "Sens:  0.5742505459598968\n",
      "F1:  0.5152405164153783\n"
     ]
    },
    {
     "name": "stderr",
     "output_type": "stream",
     "text": [
      "c:\\miniconda\\Lib\\site-packages\\sklearn\\utils\\validation.py:1183: DataConversionWarning: A column-vector y was passed when a 1d array was expected. Please change the shape of y to (n_samples, ), for example using ravel().\n",
      "  y = column_or_1d(y, warn=True)\n"
     ]
    },
    {
     "name": "stdout",
     "output_type": "stream",
     "text": [
      "SVC\n",
      "Acc:   0.541095890410959\n"
     ]
    },
    {
     "name": "stderr",
     "output_type": "stream",
     "text": [
      "c:\\miniconda\\Lib\\site-packages\\sklearn\\metrics\\_classification.py:1469: UndefinedMetricWarning: Precision is ill-defined and being set to 0.0 in labels with no predicted samples. Use `zero_division` parameter to control this behavior.\n",
      "  _warn_prf(average, modifier, msg_start, len(result))\n"
     ]
    },
    {
     "name": "stdout",
     "output_type": "stream",
     "text": [
      "Prec:  0.4542726677642361\n",
      "Sens:  0.541095890410959\n",
      "F1:  0.4245979294694175\n"
     ]
    }
   ],
   "source": [
    "cols = ['Model_Name','Accuracy','Precision', 'Sensitivity','F1'] #'Specificity',\n",
    "resDF = pd.DataFrame(columns = cols)\n",
    "print(resDF.head())\n",
    "resDF = pd.concat([resDF, pd.DataFrame(results(model1,X_train,y_train,X_test,y_test))],ignore_index=True)\n",
    "resDF = pd.concat([resDF, pd.DataFrame(results(model2,X_train,y_train,X_test,y_test))],ignore_index=True)\n",
    "resDF = pd.concat([resDF, pd.DataFrame(results(model3,X_train,y_train,X_test,y_test))],ignore_index=True)\n",
    "resDF = pd.concat([resDF, pd.DataFrame(results(model4,X_train,y_train,X_test,y_test))],ignore_index=True)\n",
    "resDF = pd.concat([resDF, pd.DataFrame(results(model5,X_train,y_train,X_test,y_test))],ignore_index=True)\n",
    "resDF = pd.concat([resDF, pd.DataFrame(results(model6,X_train,y_train,X_test,y_test))],ignore_index=True)\n",
    "resDF = pd.concat([resDF, pd.DataFrame(results(model7,X_train,y_train,X_test,y_test))],ignore_index=True)\n",
    "resDF.to_csv('data/testingClassifiers_priya.csv')"
   ]
  },
  {
   "cell_type": "code",
   "execution_count": 15,
   "metadata": {},
   "outputs": [
    {
     "name": "stderr",
     "output_type": "stream",
     "text": [
      "c:\\miniconda\\Lib\\site-packages\\sklearn\\preprocessing\\_label.py:97: DataConversionWarning: A column-vector y was passed when a 1d array was expected. Please change the shape of y to (n_samples, ), for example using ravel().\n",
      "  y = column_or_1d(y, warn=True)\n",
      "c:\\miniconda\\Lib\\site-packages\\sklearn\\preprocessing\\_label.py:132: DataConversionWarning: A column-vector y was passed when a 1d array was expected. Please change the shape of y to (n_samples, ), for example using ravel().\n",
      "  y = column_or_1d(y, dtype=self.classes_.dtype, warn=True)\n",
      "c:\\miniconda\\Lib\\site-packages\\sklearn\\preprocessing\\_label.py:97: DataConversionWarning: A column-vector y was passed when a 1d array was expected. Please change the shape of y to (n_samples, ), for example using ravel().\n",
      "  y = column_or_1d(y, warn=True)\n",
      "c:\\miniconda\\Lib\\site-packages\\sklearn\\preprocessing\\_label.py:132: DataConversionWarning: A column-vector y was passed when a 1d array was expected. Please change the shape of y to (n_samples, ), for example using ravel().\n",
      "  y = column_or_1d(y, dtype=self.classes_.dtype, warn=True)\n"
     ]
    },
    {
     "name": "stdout",
     "output_type": "stream",
     "text": [
      "VotingClassifier\n",
      "Acc:   0.5572761564423268\n",
      "Prec:  0.5352695077029848\n",
      "Sens:  0.5572761564423268\n",
      "F1:  0.4685739978652095\n",
      "{'Model_Name': ['VotingClassifier'], 'Accuracy': [0.5572761564423268], 'Precision': [0.5352695077029848], 'Sensitivity': [0.5572761564423268], 'F1': [0.4685739978652095]}\n"
     ]
    }
   ],
   "source": [
    "emodel1 = VotingClassifier(estimators=[ ('lr', model4), ('knn', model5), ('lda', model6)], voting='hard')\n",
    "emodel1.fit(X_train,y_train)\n",
    "res1 = results(emodel1,X_train,y_train,X_test,y_test)\n",
    "print(res1)\n"
   ]
  },
  {
   "cell_type": "code",
   "execution_count": 16,
   "metadata": {},
   "outputs": [
    {
     "name": "stderr",
     "output_type": "stream",
     "text": [
      "c:\\miniconda\\Lib\\site-packages\\sklearn\\preprocessing\\_label.py:97: DataConversionWarning: A column-vector y was passed when a 1d array was expected. Please change the shape of y to (n_samples, ), for example using ravel().\n",
      "  y = column_or_1d(y, warn=True)\n",
      "c:\\miniconda\\Lib\\site-packages\\sklearn\\preprocessing\\_label.py:132: DataConversionWarning: A column-vector y was passed when a 1d array was expected. Please change the shape of y to (n_samples, ), for example using ravel().\n",
      "  y = column_or_1d(y, dtype=self.classes_.dtype, warn=True)\n",
      "c:\\miniconda\\Lib\\site-packages\\sklearn\\preprocessing\\_label.py:97: DataConversionWarning: A column-vector y was passed when a 1d array was expected. Please change the shape of y to (n_samples, ), for example using ravel().\n",
      "  y = column_or_1d(y, warn=True)\n",
      "c:\\miniconda\\Lib\\site-packages\\sklearn\\preprocessing\\_label.py:132: DataConversionWarning: A column-vector y was passed when a 1d array was expected. Please change the shape of y to (n_samples, ), for example using ravel().\n",
      "  y = column_or_1d(y, dtype=self.classes_.dtype, warn=True)\n"
     ]
    },
    {
     "name": "stdout",
     "output_type": "stream",
     "text": [
      "VotingClassifier\n",
      "Acc:   0.5572761564423268\n",
      "Prec:  0.5352695077029848\n",
      "Sens:  0.5572761564423268\n",
      "F1:  0.4685739978652095\n",
      "{'Model_Name': ['VotingClassifier'], 'Accuracy': [0.5572761564423268], 'Precision': [0.5352695077029848], 'Sensitivity': [0.5572761564423268], 'F1': [0.4685739978652095]}\n"
     ]
    }
   ],
   "source": [
    "emodel2 = VotingClassifier(estimators=[ ('xgb', model1), ('rf', model2), ('adbst', model3)], voting='hard')\n",
    "emodel2.fit(X_train,y_train)\n",
    "res2 = results(emodel1,X_train,y_train,X_test,y_test)\n",
    "print(res2)"
   ]
  },
  {
   "cell_type": "code",
   "execution_count": 17,
   "metadata": {},
   "outputs": [
    {
     "name": "stderr",
     "output_type": "stream",
     "text": [
      "c:\\miniconda\\Lib\\site-packages\\sklearn\\preprocessing\\_label.py:97: DataConversionWarning: A column-vector y was passed when a 1d array was expected. Please change the shape of y to (n_samples, ), for example using ravel().\n",
      "  y = column_or_1d(y, warn=True)\n",
      "c:\\miniconda\\Lib\\site-packages\\sklearn\\preprocessing\\_label.py:132: DataConversionWarning: A column-vector y was passed when a 1d array was expected. Please change the shape of y to (n_samples, ), for example using ravel().\n",
      "  y = column_or_1d(y, dtype=self.classes_.dtype, warn=True)\n",
      "c:\\miniconda\\Lib\\site-packages\\sklearn\\preprocessing\\_label.py:97: DataConversionWarning: A column-vector y was passed when a 1d array was expected. Please change the shape of y to (n_samples, ), for example using ravel().\n",
      "  y = column_or_1d(y, warn=True)\n",
      "c:\\miniconda\\Lib\\site-packages\\sklearn\\preprocessing\\_label.py:132: DataConversionWarning: A column-vector y was passed when a 1d array was expected. Please change the shape of y to (n_samples, ), for example using ravel().\n",
      "  y = column_or_1d(y, dtype=self.classes_.dtype, warn=True)\n"
     ]
    },
    {
     "name": "stdout",
     "output_type": "stream",
     "text": [
      "VotingClassifier\n",
      "Acc:   0.5572761564423268\n",
      "Prec:  0.5352695077029848\n",
      "Sens:  0.5572761564423268\n",
      "F1:  0.4685739978652095\n",
      "{'Model_Name': ['VotingClassifier'], 'Accuracy': [0.5572761564423268], 'Precision': [0.5352695077029848], 'Sensitivity': [0.5572761564423268], 'F1': [0.4685739978652095]}\n"
     ]
    }
   ],
   "source": [
    "emodel3 = VotingClassifier(estimators=[ ('xgb', model1), ('rf', model2), ('adbst', model3), \n",
    "('lr', model4), ('knn', model5), ('lda', model6)], voting='hard')\n",
    "emodel3.fit(X_train,y_train)\n",
    "res3 = results(emodel1,X_train,y_train,X_test,y_test)\n",
    "print(res3)"
   ]
  }
 ],
 "metadata": {
  "kernelspec": {
   "display_name": "Python 3 (ipykernel)",
   "language": "python",
   "name": "python3"
  },
  "language_info": {
   "codemirror_mode": {
    "name": "ipython",
    "version": 3
   },
   "file_extension": ".py",
   "mimetype": "text/x-python",
   "name": "python",
   "nbconvert_exporter": "python",
   "pygments_lexer": "ipython3",
   "version": "3.11.4"
  },
  "vscode": {
   "interpreter": {
    "hash": "59260a63518a7b1f92526c8cf5c952b378cebd6853e883151a004bcaa240186c"
   }
  }
 },
 "nbformat": 4,
 "nbformat_minor": 2
}
